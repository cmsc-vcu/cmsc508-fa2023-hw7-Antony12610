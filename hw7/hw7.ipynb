{
  "cells": [
    {
      "cell_type": "raw",
      "metadata": {},
      "source": [
        "---\n",
        "title: Homework 7 - Creating a resume database\n",
        "author: Antony Fuentes\n",
        "date: last-modified\n",
        "format:\n",
        "    html:\n",
        "        theme: cosmo\n",
        "        toc: true\n",
        "        embed-resources: true\n",
        "        code-copy: true\n",
        "---"
      ],
      "id": "6fd96a0e"
    },
    {
      "cell_type": "markdown",
      "metadata": {},
      "source": [
        "The document is structured to present a database project's details and functionality using a combination of markdown text and Python code cells. It covers an overview of the project's aim, an explanation of an ER diagram, descriptions of database tables ('People,' 'Skills,' and 'Roles'), snapshots of table data, sample SQL queries, and their respective outputs. Overall, it efficiently combines explanations, code snippets, and query results to demonstrate the database's design, contents, and querying capabilities.\n",
        "\n",
        "\n",
        "GITHUB URL:  <https://github.com/cmsc-vcu/cmsc508-fa2023-hw7-Antony12610>\n"
      ],
      "id": "f82e0189"
    },
    {
      "cell_type": "code",
      "metadata": {},
      "source": [
        "#| eval: true\n",
        "#| echo: false\n",
        "import os\n",
        "import sys\n",
        "import pandas as pd\n",
        "from tabulate import tabulate\n",
        "from dotenv import load_dotenv\n",
        "from sqlalchemy import create_engine, text\n",
        "from sqlalchemy.exc import OperationalError, ProgrammingError\n",
        "from IPython.display import display, Markdown"
      ],
      "id": "1a39ebbd",
      "execution_count": null,
      "outputs": []
    },
    {
      "cell_type": "code",
      "metadata": {},
      "source": [
        "#| eval: true\n",
        "#| echo: false\n",
        "# modify config_map to reflect credentials needed by this program\n",
        "config_map = {\n",
        "    'user':'CMSC508_USER',\n",
        "    'password':'CMSC508_PASSWORD',\n",
        "    'host':'CMSC508_HOST',\n",
        "    'database':'HW7_DB_NAME'\n",
        "}\n",
        "# load and store credentials\n",
        "load_dotenv()\n",
        "config = {}\n",
        "for key in config_map.keys():\n",
        "    config[key] = os.getenv(config_map[key])\n",
        "flag = False\n",
        "for param in config.keys():\n",
        "    if config[param] is None:\n",
        "        flag = True\n",
        "        print(f\"Missing {config_map[param]} in .env file\")\n",
        "#if flag:\n",
        "#    sys.exit(1)"
      ],
      "id": "e8b974bb",
      "execution_count": null,
      "outputs": []
    },
    {
      "cell_type": "code",
      "metadata": {},
      "source": [
        "#| eval: true\n",
        "#| echo: false\n",
        "# build a sqlalchemy engine string\n",
        "engine_uri = f\"mysql+pymysql://{config['user']}:{config['password']}@{config['host']}/{config['database']}\"\n",
        "# create a database connection.  THIS IS THE ACTUAL CONNECTION!\n",
        "try:\n",
        "    cnx = create_engine(engine_uri)\n",
        "except ArgumentError as e:\n",
        "    print(f\"create_engine: Argument Error: {e}\")\n",
        "    #sys.exit(1)\n",
        "except NoSuchModuleError as e:\n",
        "    print(f\"create_engine: No Such Module Error: {e}\")\n",
        "    #sys.exit(1)\n",
        "except Exception as e:\n",
        "    print(f\"create_engine: An error occurred: {e}\")\n",
        "    #sys.exit(1)"
      ],
      "id": "c2278b44",
      "execution_count": null,
      "outputs": []
    },
    {
      "cell_type": "code",
      "metadata": {},
      "source": [
        "#| echo: false\n",
        "#| eval: true\n",
        "# Do a quick test of the connection and trap the errors better!\n",
        "try:\n",
        "    databases = pd.read_sql(\"show databases\",cnx)\n",
        "except ImportError as e:\n",
        "    print(f\"Error: {e}\")\n",
        "except OperationalError as e:\n",
        "    print(f\"Database/SQL Error:\\n{str(e)}\\n\")\n",
        "except ProgrammingError as e:\n",
        "    print(f\"Programming Error:\\n{str(e)}\\n\")\n",
        "except Exception as e:\n",
        "    print(f\"An error occurred:\\n{str(e)}\\n\")"
      ],
      "id": "87c9e731",
      "execution_count": null,
      "outputs": []
    },
    {
      "cell_type": "markdown",
      "metadata": {},
      "source": [
        "## Overview and description\n",
        "\n",
        "This project centers on constructing a comprehensive database to consolidate the skills, certifications, and roles of company employees. It aims to streamline skill-based employee searches, track skill acquisition and anticipated dates, and facilitate role assignments. The database encompasses tables for skills/certifications, employees, and roles, fostering associations between skills and employees as well as employees and roles. It serves to identify skill sets, evaluate employee skills, and analyze skill gaps within specific roles, fostering efficient talent management and skill optimization within the company.\n",
        "\n",
        "## Crows-foot diagram\n",
        "\n",
        "(add a description of the diagram and what the reader is seeing.)\n",
        "\n",
        "\n",
        "```{mermaid}\n",
        "%%| echo: false\n",
        "   erDiagram\n",
        "    SKILLS ||--o{ PEOPLESKILLS : \"\"\n",
        "    PEOPLE ||--o{ PEOPLESKILLS: \"\"\n",
        "    PEOPLE ||--o{ PEOPLE_ROLES : \"\"\n",
        "    ROLES ||--o{ PEOPLE_ROLES : \"\"\n",
        "    \n",
        "    SKILLS {\n",
        "        int id\n",
        "        varchar name\n",
        "        varchar description\n",
        "        varchar tag\n",
        "        varchar url \n",
        "        int time_commitment\n",
        "        primary key (id)\n",
        "    }\n",
        "\n",
        "    PEOPLE {\n",
        "        id int\n",
        "        first_name varchar(255)\n",
        "        last_name varchar(255)\n",
        "        email varchar(255)\n",
        "        linkedin_url varchar(255)\n",
        "        headshot_url varchar(255)\n",
        "        discord_handle varchar(255)\n",
        "        brief_bio varchar(255)\n",
        "        date_joined date\n",
        "        primary key (id)\n",
        "    }\n",
        "\n",
        "    PEOPLESKILLS {\n",
        "        id int\n",
        "        skills_id int\n",
        "        people_id int\n",
        "        date_acquired date\n",
        "        primary key (id),\n",
        "        foreign key (skills_id) references skills(id),\n",
        "        foreign key (people_id) references people(id)\n",
        "    }\n",
        "\n",
        "    ROLES {\n",
        "        id int\n",
        "        name varchar(255)\n",
        "        sort_priority int\n",
        "        primary key (id)\n",
        "    }\n",
        "\n",
        "    PEOPLE_ROLES {\n",
        "        id int\n",
        "        people_id int\n",
        "        role_id int\n",
        "        date_role_acquired date\n",
        "        primary key (id),\n",
        "        foreign key (people_id) references people(id),\n",
        "        foreign key (role_id) references roles(id)\n",
        "    }\n",
        "\n",
        "```\n",
        "\n",
        "\n",
        "## Examples of data in the database\n",
        "\n",
        "For the people, skills, and roles tables, provide a description of each table and it's contents. Then provide a listing of the entire table.\n",
        "\n",
        "### People table\n",
        "\n",
        "The *people* table contains elements that describe ... \n",
        "\n",
        "Below is a list of data in the *people* table.\n"
      ],
      "id": "961cd6e7"
    },
    {
      "cell_type": "code",
      "metadata": {},
      "source": [
        "#| echo: false\n",
        "#| eval: true\n",
        "sql = f\"\"\"\n",
        "select * from people;\n",
        "\"\"\"\n",
        "## Add code to list roles table here\n",
        "try:\n",
        "    df = pd.read_sql(sql,cnx)\n",
        "    df\n",
        "except Exception as e:\n",
        "    message = str(e)\n",
        "    print(f\"An error occurred:\\n\\n{message}\\n\\nIgnoring and moving on.\")\n",
        "    df = pd.DataFrame()\n",
        "df"
      ],
      "id": "fe0499a1",
      "execution_count": null,
      "outputs": []
    },
    {
      "cell_type": "markdown",
      "metadata": {},
      "source": [
        "### Skills table\n",
        "\n",
        "The *skills* table contains elements that describe ... \n",
        "\n",
        "Below is a list of data in the *skills* table.\n"
      ],
      "id": "e46f7618"
    },
    {
      "cell_type": "code",
      "metadata": {},
      "source": [
        "#| echo: false\n",
        "#| eval: true\n",
        "sql = f\"\"\"\n",
        "select * from skills;\n",
        "\"\"\"\n",
        "## Add code to list roles table here\n",
        "try:\n",
        "    df = pd.read_sql(sql,cnx)\n",
        "    df\n",
        "except Exception as e:\n",
        "    message = str(e)\n",
        "    print(f\"An error occurred:\\n\\n{message}\\n\\nIgnoring and moving on.\")\n",
        "    df = pd.DataFrame()\n",
        "df"
      ],
      "id": "392ed72a",
      "execution_count": null,
      "outputs": []
    },
    {
      "cell_type": "markdown",
      "metadata": {},
      "source": [
        "### Roles table\n",
        "\n",
        "The *roles* table contains elements that describe ... \n",
        "\n",
        "Below is a list of data in the *roles* table.\n"
      ],
      "id": "a2c636ee"
    },
    {
      "cell_type": "code",
      "metadata": {},
      "source": [
        "#| echo: false\n",
        "#| eval: true\n",
        "sql = f\"\"\"\n",
        "select * from roles;\n",
        "\"\"\"\n",
        "## Add code to list roles table here\n",
        "try:\n",
        "    df = pd.read_sql(sql,cnx)\n",
        "    df\n",
        "except Exception as e:\n",
        "    message = str(e)\n",
        "    print(f\"An error occurred:\\n\\n{message}\\n\\nIgnoring and moving on.\")\n",
        "    df = pd.DataFrame()\n",
        "df"
      ],
      "id": "8bbc368e",
      "execution_count": null,
      "outputs": []
    },
    {
      "cell_type": "markdown",
      "metadata": {},
      "source": [
        "## Sample queries\n",
        "\n",
        "Let's explore the database!\n",
        "\n",
        "# List skill names, tags, and descriptions ordered by name\n",
        "\n",
        "(here a sample query)\n"
      ],
      "id": "354b923b"
    },
    {
      "cell_type": "code",
      "metadata": {},
      "source": [
        "sql = f\"\"\"\n",
        "select * from people\n",
        "\"\"\""
      ],
      "id": "7b116b81",
      "execution_count": null,
      "outputs": []
    },
    {
      "cell_type": "markdown",
      "metadata": {},
      "source": [
        "(and here is a sample result from the query)\n"
      ],
      "id": "e4722ab0"
    },
    {
      "cell_type": "code",
      "metadata": {},
      "source": [
        "#| echo: false\n",
        "#| eval: true\n",
        "try:\n",
        "    df = pd.read_sql(sql,cnx)\n",
        "    df\n",
        "except Exception as e:\n",
        "    message = str(e)\n",
        "    print(f\"An error occurred:\\n\\n{message}\\n\\nIgnoring and moving on.\")\n",
        "    df = pd.DataFrame()\n",
        "df"
      ],
      "id": "262900f7",
      "execution_count": null,
      "outputs": []
    },
    {
      "cell_type": "markdown",
      "metadata": {},
      "source": [
        "### List people names and email addresses ordered by last_name\n"
      ],
      "id": "2fa7cf35"
    },
    {
      "cell_type": "code",
      "metadata": {},
      "source": [
        "SELECT first_name, last_name, email\n",
        "FROM people\n",
        "ORDER BY last_name;"
      ],
      "id": "673e4df1",
      "execution_count": null,
      "outputs": []
    },
    {
      "cell_type": "markdown",
      "metadata": {},
      "source": [
        "### List skill names of Person 1\n",
        "\n",
        "\n",
        "### List people names with Skill 6\n",
        "\n",
        "\n",
        "### List people with a DEVELOPER role\n",
        "\n",
        "\n",
        "### List names and email addresses of people without skills\n",
        "\n",
        "\n",
        "### List names and tags of unused skills\n",
        "\n",
        "\n",
        "### List people names and skill names with the BOSS role\n",
        "\n",
        "\n",
        "### List ids and names of unused roles\n",
        "\n",
        "\n",
        "## Reflection\n",
        "\n",
        "(Write a paragraph expressing your thoughts, feelings, and insights about your experience with this assignment.  Pause and breath before writing - I'm trying to encourage critical thinking and self-awareness while allowing you to explore the connections between theory and practice. And yes, delete this paragraph.)"
      ],
      "id": "603cd0d1"
    }
  ],
  "metadata": {
    "kernelspec": {
      "name": "python3",
      "language": "python",
      "display_name": "Python 3 (ipykernel)"
    }
  },
  "nbformat": 4,
  "nbformat_minor": 5
}